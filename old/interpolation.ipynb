{
 "cells": [
  {
   "cell_type": "code",
   "execution_count": 12,
   "outputs": [],
   "source": [
    "import torch\n",
    "import theseus as th\n",
    "import numpy as np\n",
    "\n",
    "arr_size = int(16)\n",
    "\n",
    "torch.manual_seed(0)\n",
    "data_x = torch.tensor(np.stack([np.linspace(0, 1, 100)]*arr_size), dtype=torch.float32)\n",
    "data_coeffs = torch.tensor(np.random.random(data_x.shape[0]), dtype=torch.float32)\n",
    "data_y = data_coeffs.unsqueeze(-1)*torch.exp(data_x)\n",
    "\n",
    "interp_x_data = torch.linspace(0, 1, 100).unsqueeze(0)\n",
    "interp_y_data = torch.pow(interp_x_data, 1) + torch.pow(interp_x_data, 2) + torch.pow(interp_x_data, 3)"
   ],
   "metadata": {
    "collapsed": false,
    "pycharm": {
     "name": "#%%\n"
    }
   }
  },
  {
   "cell_type": "code",
   "execution_count": 13,
   "outputs": [],
   "source": [
    "x = th.Variable(data_x, name='x')\n",
    "y = th.Variable(data_y, name='y')\n",
    "interp_x = th.Variable(interp_x_data, name='interp_x')\n",
    "interp_y = th.Variable(interp_y_data, name='interp_y')\n",
    "\n",
    "a = th.Vector(1, name='a')"
   ],
   "metadata": {
    "collapsed": false,
    "pycharm": {
     "name": "#%%\n"
    }
   }
  },
  {
   "cell_type": "code",
   "execution_count": 14,
   "outputs": [],
   "source": [
    "def interp_index(arr, val):\n",
    "    arr_min = val - arr\n",
    "    values, indices = torch.min(torch.abs(arr_min), -1)\n",
    "    return indices"
   ],
   "metadata": {
    "collapsed": false,
    "pycharm": {
     "name": "#%%\n"
    }
   }
  },
  {
   "cell_type": "code",
   "execution_count": 15,
   "outputs": [],
   "source": [
    "def error_fn(optim_vars, aux_vars):\n",
    "    a, = optim_vars\n",
    "    x, y, interp_x, interp_y = aux_vars\n",
    "    i = interp_index(interp_x.tensor, a.tensor)\n",
    "    est = interp_y.tensor[i]*torch.exp(x.tensor)\n",
    "    err = y.tensor - est\n",
    "    return err\n",
    "\n",
    "optim_vars = a,\n",
    "aux_vars = x, y, interp_x, interp_y\n",
    "cost_function = th.AutoDiffCostFunction(\n",
    "    optim_vars, error_fn, 100,\n",
    "    aux_vars=aux_vars, name='cost_fn'\n",
    ")\n",
    "objective = th.Objective()\n",
    "objective.add(cost_function)\n",
    "optimizer = th.GaussNewton(\n",
    "    objective,\n",
    "    max_iterations=15,\n",
    "    step_size=0.5\n",
    ")\n",
    "theseus_optim = th.TheseusLayer(optimizer)"
   ],
   "metadata": {
    "collapsed": false,
    "pycharm": {
     "name": "#%%\n"
    }
   }
  },
  {
   "cell_type": "code",
   "execution_count": null,
   "outputs": [],
   "source": [
    "theseus_inputs = {\n",
    "    'x': data_x,\n",
    "    'y': data_y,\n",
    "    'interp_x': interp_x_data,\n",
    "    'interp_y': interp_y_data,\n",
    "    'a': torch.ones((arr_size, 1))\n",
    "}\n",
    "with torch.no_grad():\n",
    "    updated_inputs, info = theseus_optim.forward(\n",
    "        theseus_inputs,\n",
    "        optimizer_kwargs={'track_best_solution': True, 'verbose': True}\n",
    "    )\n",
    "print('Best solution:', info.best_solution)\n",
    "coeffs_est = np.array(info.best_solution['a'])\n",
    "coeffs_exact = np.array(data_coeffs)"
   ],
   "metadata": {
    "collapsed": false,
    "pycharm": {
     "name": "#%%\n"
    }
   }
  },
  {
   "cell_type": "code",
   "execution_count": null,
   "outputs": [],
   "source": [],
   "metadata": {
    "collapsed": false,
    "pycharm": {
     "name": "#%%\n"
    }
   }
  }
 ],
 "metadata": {
  "kernelspec": {
   "display_name": "Python 3",
   "language": "python",
   "name": "python3"
  },
  "language_info": {
   "codemirror_mode": {
    "name": "ipython",
    "version": 2
   },
   "file_extension": ".py",
   "mimetype": "text/x-python",
   "name": "python",
   "nbconvert_exporter": "python",
   "pygments_lexer": "ipython2",
   "version": "2.7.6"
  }
 },
 "nbformat": 4,
 "nbformat_minor": 0
}