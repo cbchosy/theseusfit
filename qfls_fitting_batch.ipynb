{
 "cells": [
  {
   "cell_type": "markdown",
   "source": [
    "# GPU-Accelerated Curve Fitting with Theseus\n",
    "Theseus is used to provide second-order nonlinear optimizers for efficient and high-throughput curve fitting."
   ],
   "metadata": {
    "collapsed": false
   }
  },
  {
   "cell_type": "code",
   "execution_count": 1,
   "outputs": [
    {
     "ename": "ImportError",
     "evalue": "dlopen(/Users/cbchosy/opt/anaconda3/envs/theseus/lib/python3.10/site-packages/sksparse/cholmod.cpython-310-darwin.so, 0x0002): Library not loaded: @rpath/libblas.3.dylib\n  Referenced from: <F0E743CE-ABC7-3A11-843A-3D271FDCFDA6> /Users/cbchosy/opt/anaconda3/envs/theseus/lib/libcholmod.3.0.14.dylib\n  Reason: tried: '/Users/cbchosy/opt/anaconda3/envs/theseus/lib/libblas.3.dylib' (no such file), '/System/Volumes/Preboot/Cryptexes/OS/Users/cbchosy/opt/anaconda3/envs/theseus/lib/libblas.3.dylib' (no such file), '/Users/cbchosy/opt/anaconda3/envs/theseus/lib/libblas.3.dylib' (no such file), '/System/Volumes/Preboot/Cryptexes/OS/Users/cbchosy/opt/anaconda3/envs/theseus/lib/libblas.3.dylib' (no such file), '/Users/cbchosy/opt/anaconda3/envs/theseus/lib/libblas.3.dylib' (no such file), '/Users/cbchosy/opt/anaconda3/envs/theseus/lib/libblas.3.dylib' (no such file), '/System/Volumes/Preboot/Cryptexes/OS/Users/cbchosy/opt/anaconda3/envs/theseus/lib/libblas.3.dylib' (no such file), '/Users/cbchosy/opt/anaconda3/envs/theseus/lib/libblas.3.dylib' (no such file), '/System/Volumes/Preboot/Cryptexes/OS/Users/cbchosy/opt/anaconda3/envs/theseus/lib/libblas.3.dylib' (no such file), '/Users/cbchosy/opt/anaconda3/envs/theseus/lib/libblas.3.dylib' (no such file), '/System/Volumes/Preboot/Cryptexes/OS/Users/cbchosy/opt/anaconda3/envs/theseus/lib/libblas.3.dylib' (no such file), '/Users/cbchosy/opt/anaconda3/envs/theseus/lib/libblas.3.dylib' (no such file), '/System/Volumes/Preboot/Cryptexes/OS/Users/cbchosy/opt/anaconda3/envs/theseus/lib/libblas.3.dylib' (no such file), '/Users/cbchosy/opt/anaconda3/envs/theseus/bin/../lib/libblas.3.dylib' (no such file), '/Users/cbchosy/opt/anaconda3/envs/theseus/bin/../lib/libblas.3.dylib' (no such file), '/System/Volumes/Preboot/Cryptexes/OS@rpath/libblas.3.dylib' (no such file), '/Users/cbchosy/opt/anaconda3/envs/theseus/lib/libblas.3.dylib' (no such file), '/System/Volumes/Preboot/Cryptexes/OS/Users/cbchosy/opt/anaconda3/envs/theseus/lib/libblas.3.dylib' (no such file), '/Users/cbchosy/opt/anaconda3/envs/theseus/lib/libblas.3.dylib' (no such file), '/System/Volumes/Preboot/Cryptexes/OS/Users/cbchosy/opt/anaconda3/envs/theseus/lib/libblas.3.dylib' (no such file), '/Users/cbchosy/opt/anaconda3/envs/theseus/lib/libblas.3.dylib' (no such file), '/Users/cbchosy/opt/anaconda3/envs/theseus/lib/libblas.3.dylib' (no such file), '/System/Volumes/Preboot/Cryptexes/OS/Users/cbchosy/opt/anaconda3/envs/theseus/lib/libblas.3.dylib' (no such file), '/Users/cbchosy/opt/anaconda3/envs/theseus/lib/libblas.3.dylib' (no such file), '/System/Volumes/Preboot/Cryptexes/OS/Users/cbchosy/opt/anaconda3/envs/theseus/lib/libblas.3.dylib' (no such file), '/Users/cbchosy/opt/anaconda3/envs/theseus/lib/libblas.3.dylib' (no such file), '/System/Volumes/Preboot/Cryptexes/OS/Users/cbchosy/opt/anaconda3/envs/theseus/lib/libblas.3.dylib' (no such file), '/Users/cbchosy/opt/anaconda3/envs/theseus/lib/libblas.3.dylib' (no such file), '/System/Volumes/Preboot/Cryptexes/OS/Users/cbchosy/opt/anaconda3/envs/theseus/lib/libblas.3.dylib' (no such file), '/Users/cbchosy/opt/anaconda3/envs/theseus/bin/../lib/libblas.3.dylib' (no such file), '/Users/cbchosy/opt/anaconda3/envs/theseus/bin/../lib/libblas.3.dylib' (no such file), '/usr/local/lib/libblas.3.dylib' (no such file), '/usr/lib/libblas.3.dylib' (no such file, not in dyld cache)",
     "output_type": "error",
     "traceback": [
      "\u001B[0;31m---------------------------------------------------------------------------\u001B[0m",
      "\u001B[0;31mImportError\u001B[0m                               Traceback (most recent call last)",
      "Cell \u001B[0;32mIn[1], line 3\u001B[0m\n\u001B[1;32m      1\u001B[0m \u001B[38;5;28;01mimport\u001B[39;00m \u001B[38;5;21;01mnumpy\u001B[39;00m \u001B[38;5;28;01mas\u001B[39;00m \u001B[38;5;21;01mnp\u001B[39;00m\n\u001B[1;32m      2\u001B[0m \u001B[38;5;28;01mimport\u001B[39;00m \u001B[38;5;21;01mh5py\u001B[39;00m\n\u001B[0;32m----> 3\u001B[0m \u001B[38;5;28;01mfrom\u001B[39;00m \u001B[38;5;21;01mtheseusqfls\u001B[39;00m \u001B[38;5;28;01mimport\u001B[39;00m genplanck, visualization\n\u001B[1;32m      4\u001B[0m \u001B[38;5;28;01mfrom\u001B[39;00m \u001B[38;5;21;01mscipy\u001B[39;00m\u001B[38;5;21;01m.\u001B[39;00m\u001B[38;5;21;01moptimize\u001B[39;00m \u001B[38;5;28;01mimport\u001B[39;00m curve_fit\n\u001B[1;32m      5\u001B[0m \u001B[38;5;28;01mimport\u001B[39;00m \u001B[38;5;21;01mmatplotlib\u001B[39;00m\u001B[38;5;21;01m.\u001B[39;00m\u001B[38;5;21;01mpyplot\u001B[39;00m \u001B[38;5;28;01mas\u001B[39;00m \u001B[38;5;21;01mplt\u001B[39;00m\n",
      "File \u001B[0;32m~/Library/CloudStorage/GoogleDrive-cbc37@cam.ac.uk/Shared drives/StranksLab/Personal Folders/Cullen Chosy/Code/theseusqfls/theseusqfls/genplanck.py:3\u001B[0m\n\u001B[1;32m      1\u001B[0m \u001B[38;5;28;01mfrom\u001B[39;00m \u001B[38;5;21;01mtyping\u001B[39;00m \u001B[38;5;28;01mimport\u001B[39;00m List, Optional, Tuple\n\u001B[1;32m      2\u001B[0m \u001B[38;5;28;01mimport\u001B[39;00m \u001B[38;5;21;01mpkg_resources\u001B[39;00m\n\u001B[0;32m----> 3\u001B[0m \u001B[38;5;28;01mimport\u001B[39;00m \u001B[38;5;21;01mtheseus\u001B[39;00m \u001B[38;5;28;01mas\u001B[39;00m \u001B[38;5;21;01mth\u001B[39;00m\n\u001B[1;32m      4\u001B[0m \u001B[38;5;28;01mimport\u001B[39;00m \u001B[38;5;21;01mtorch\u001B[39;00m\n\u001B[1;32m      5\u001B[0m \u001B[38;5;28;01mimport\u001B[39;00m \u001B[38;5;21;01mmath\u001B[39;00m\n",
      "File \u001B[0;32m~/opt/anaconda3/envs/theseus/lib/python3.10/site-packages/theseus/__init__.py:77\u001B[0m\n\u001B[1;32m     27\u001B[0m \u001B[38;5;28;01mfrom\u001B[39;00m \u001B[38;5;21;01m.\u001B[39;00m\u001B[38;5;21;01mgeometry\u001B[39;00m \u001B[38;5;28;01mimport\u001B[39;00m (  \u001B[38;5;66;03m# usort: skip\u001B[39;00m\n\u001B[1;32m     28\u001B[0m     LieGroup,\n\u001B[1;32m     29\u001B[0m     LieGroupTensor,\n\u001B[0;32m   (...)\u001B[0m\n\u001B[1;32m     65\u001B[0m     set_lie_tangent_enabled,\n\u001B[1;32m     66\u001B[0m )\n\u001B[1;32m     67\u001B[0m \u001B[38;5;28;01mfrom\u001B[39;00m \u001B[38;5;21;01m.\u001B[39;00m\u001B[38;5;21;01moptimizer\u001B[39;00m \u001B[38;5;28;01mimport\u001B[39;00m (  \u001B[38;5;66;03m# usort: skip\u001B[39;00m\n\u001B[1;32m     68\u001B[0m     DenseLinearization,\n\u001B[1;32m     69\u001B[0m     Linearization,\n\u001B[0;32m   (...)\u001B[0m\n\u001B[1;32m     75\u001B[0m     retract_gaussian,\n\u001B[1;32m     76\u001B[0m )\n\u001B[0;32m---> 77\u001B[0m \u001B[38;5;28;01mfrom\u001B[39;00m \u001B[38;5;21;01m.\u001B[39;00m\u001B[38;5;21;01moptimizer\u001B[39;00m\u001B[38;5;21;01m.\u001B[39;00m\u001B[38;5;21;01mlinear\u001B[39;00m \u001B[38;5;28;01mimport\u001B[39;00m (  \u001B[38;5;66;03m# usort: skip\u001B[39;00m\n\u001B[1;32m     78\u001B[0m     BaspachoSparseSolver,\n\u001B[1;32m     79\u001B[0m     CholeskyDenseSolver,\n\u001B[1;32m     80\u001B[0m     CholmodSparseSolver,\n\u001B[1;32m     81\u001B[0m     DenseSolver,\n\u001B[1;32m     82\u001B[0m     LinearOptimizer,\n\u001B[1;32m     83\u001B[0m     LinearSolver,\n\u001B[1;32m     84\u001B[0m     LUCudaSparseSolver,\n\u001B[1;32m     85\u001B[0m     LUDenseSolver,\n\u001B[1;32m     86\u001B[0m )\n\u001B[1;32m     87\u001B[0m \u001B[38;5;28;01mfrom\u001B[39;00m \u001B[38;5;21;01m.\u001B[39;00m\u001B[38;5;21;01moptimizer\u001B[39;00m\u001B[38;5;21;01m.\u001B[39;00m\u001B[38;5;21;01mnonlinear\u001B[39;00m \u001B[38;5;28;01mimport\u001B[39;00m (  \u001B[38;5;66;03m# usort: skip\u001B[39;00m\n\u001B[1;32m     88\u001B[0m     BackwardMode,\n\u001B[1;32m     89\u001B[0m     Dogleg,\n\u001B[0;32m   (...)\u001B[0m\n\u001B[1;32m     95\u001B[0m     NonlinearOptimizerStatus,\n\u001B[1;32m     96\u001B[0m )\n\u001B[1;32m     97\u001B[0m \u001B[38;5;28;01mfrom\u001B[39;00m \u001B[38;5;21;01m.\u001B[39;00m\u001B[38;5;21;01mtheseus_layer\u001B[39;00m \u001B[38;5;28;01mimport\u001B[39;00m TheseusLayer  \u001B[38;5;66;03m# usort: skip\u001B[39;00m\n",
      "File \u001B[0;32m~/opt/anaconda3/envs/theseus/lib/python3.10/site-packages/theseus/optimizer/linear/__init__.py:11\u001B[0m\n\u001B[1;32m      9\u001B[0m \u001B[38;5;28;01mfrom\u001B[39;00m \u001B[38;5;21;01m.\u001B[39;00m\u001B[38;5;21;01mlinear_optimizer\u001B[39;00m \u001B[38;5;28;01mimport\u001B[39;00m LinearOptimizer\n\u001B[1;32m     10\u001B[0m \u001B[38;5;28;01mfrom\u001B[39;00m \u001B[38;5;21;01m.\u001B[39;00m\u001B[38;5;21;01mlinear_solver\u001B[39;00m \u001B[38;5;28;01mimport\u001B[39;00m LinearSolver\n\u001B[0;32m---> 11\u001B[0m \u001B[38;5;28;01mfrom\u001B[39;00m \u001B[38;5;21;01m.\u001B[39;00m\u001B[38;5;21;01mbaspacho_sparse_solver\u001B[39;00m \u001B[38;5;28;01mimport\u001B[39;00m BaspachoSparseSolver\n\u001B[1;32m     12\u001B[0m \u001B[38;5;28;01mfrom\u001B[39;00m \u001B[38;5;21;01m.\u001B[39;00m\u001B[38;5;21;01mlu_cuda_sparse_solver\u001B[39;00m \u001B[38;5;28;01mimport\u001B[39;00m LUCudaSparseSolver\n\u001B[1;32m     13\u001B[0m \u001B[38;5;28;01mfrom\u001B[39;00m \u001B[38;5;21;01m.\u001B[39;00m\u001B[38;5;21;01mcholmod_sparse_solver\u001B[39;00m \u001B[38;5;28;01mimport\u001B[39;00m CholmodSparseSolver\n",
      "File \u001B[0;32m~/opt/anaconda3/envs/theseus/lib/python3.10/site-packages/theseus/optimizer/linear/baspacho_sparse_solver.py:13\u001B[0m\n\u001B[1;32m     11\u001B[0m \u001B[38;5;28;01mfrom\u001B[39;00m \u001B[38;5;21;01mtheseus\u001B[39;00m\u001B[38;5;21;01m.\u001B[39;00m\u001B[38;5;21;01mcore\u001B[39;00m \u001B[38;5;28;01mimport\u001B[39;00m Objective\n\u001B[1;32m     12\u001B[0m \u001B[38;5;28;01mfrom\u001B[39;00m \u001B[38;5;21;01mtheseus\u001B[39;00m\u001B[38;5;21;01m.\u001B[39;00m\u001B[38;5;21;01moptimizer\u001B[39;00m \u001B[38;5;28;01mimport\u001B[39;00m Linearization, SparseLinearization\n\u001B[0;32m---> 13\u001B[0m \u001B[38;5;28;01mfrom\u001B[39;00m \u001B[38;5;21;01mtheseus\u001B[39;00m\u001B[38;5;21;01m.\u001B[39;00m\u001B[38;5;21;01moptimizer\u001B[39;00m\u001B[38;5;21;01m.\u001B[39;00m\u001B[38;5;21;01mautograd\u001B[39;00m \u001B[38;5;28;01mimport\u001B[39;00m BaspachoSolveFunction\n\u001B[1;32m     15\u001B[0m \u001B[38;5;28;01mfrom\u001B[39;00m \u001B[38;5;21;01m.\u001B[39;00m\u001B[38;5;21;01mlinear_solver\u001B[39;00m \u001B[38;5;28;01mimport\u001B[39;00m LinearSolver\n\u001B[1;32m     16\u001B[0m \u001B[38;5;28;01mfrom\u001B[39;00m \u001B[38;5;21;01m.\u001B[39;00m\u001B[38;5;21;01mutils\u001B[39;00m \u001B[38;5;28;01mimport\u001B[39;00m convert_to_alpha_beta_damping_tensors\n",
      "File \u001B[0;32m~/opt/anaconda3/envs/theseus/lib/python3.10/site-packages/theseus/optimizer/autograd/__init__.py:8\u001B[0m\n\u001B[1;32m      6\u001B[0m \u001B[38;5;28;01mfrom\u001B[39;00m \u001B[38;5;21;01m.\u001B[39;00m\u001B[38;5;21;01mbaspacho_sparse_autograd\u001B[39;00m \u001B[38;5;28;01mimport\u001B[39;00m BaspachoSolveFunction\n\u001B[1;32m      7\u001B[0m \u001B[38;5;28;01mfrom\u001B[39;00m \u001B[38;5;21;01m.\u001B[39;00m\u001B[38;5;21;01mlu_cuda_sparse_autograd\u001B[39;00m \u001B[38;5;28;01mimport\u001B[39;00m LUCudaSolveFunction\n\u001B[0;32m----> 8\u001B[0m \u001B[38;5;28;01mfrom\u001B[39;00m \u001B[38;5;21;01m.\u001B[39;00m\u001B[38;5;21;01mcholmod_sparse_autograd\u001B[39;00m \u001B[38;5;28;01mimport\u001B[39;00m CholmodSolveFunction\n\u001B[1;32m     10\u001B[0m __all__ \u001B[38;5;241m=\u001B[39m [\n\u001B[1;32m     11\u001B[0m     \u001B[38;5;124m\"\u001B[39m\u001B[38;5;124mBaspachoSolveFunction\u001B[39m\u001B[38;5;124m\"\u001B[39m,\n\u001B[1;32m     12\u001B[0m     \u001B[38;5;124m\"\u001B[39m\u001B[38;5;124mCholmodSolveFunction\u001B[39m\u001B[38;5;124m\"\u001B[39m,\n\u001B[1;32m     13\u001B[0m     \u001B[38;5;124m\"\u001B[39m\u001B[38;5;124mLUCudaSolveFunction\u001B[39m\u001B[38;5;124m\"\u001B[39m,\n\u001B[1;32m     14\u001B[0m ]\n",
      "File \u001B[0;32m~/opt/anaconda3/envs/theseus/lib/python3.10/site-packages/theseus/optimizer/autograd/cholmod_sparse_autograd.py:8\u001B[0m\n\u001B[1;32m      5\u001B[0m \u001B[38;5;28;01mfrom\u001B[39;00m \u001B[38;5;21;01mtyping\u001B[39;00m \u001B[38;5;28;01mimport\u001B[39;00m Any, Tuple\n\u001B[1;32m      7\u001B[0m \u001B[38;5;28;01mimport\u001B[39;00m \u001B[38;5;21;01mtorch\u001B[39;00m\n\u001B[0;32m----> 8\u001B[0m \u001B[38;5;28;01mfrom\u001B[39;00m \u001B[38;5;21;01msksparse\u001B[39;00m\u001B[38;5;21;01m.\u001B[39;00m\u001B[38;5;21;01mcholmod\u001B[39;00m \u001B[38;5;28;01mimport\u001B[39;00m Factor \u001B[38;5;28;01mas\u001B[39;00m CholeskyDecomposition\n\u001B[1;32m     10\u001B[0m \u001B[38;5;28;01mfrom\u001B[39;00m \u001B[38;5;21;01m.\u001B[39;00m\u001B[38;5;21;01m.\u001B[39;00m\u001B[38;5;21;01mlinear_system\u001B[39;00m \u001B[38;5;28;01mimport\u001B[39;00m SparseStructure\n\u001B[1;32m     12\u001B[0m _CholmodSolveFunctionBwdReturnType \u001B[38;5;241m=\u001B[39m Tuple[torch\u001B[38;5;241m.\u001B[39mTensor, torch\u001B[38;5;241m.\u001B[39mTensor, \u001B[38;5;28;01mNone\u001B[39;00m, \u001B[38;5;28;01mNone\u001B[39;00m, \u001B[38;5;28;01mNone\u001B[39;00m]\n",
      "\u001B[0;31mImportError\u001B[0m: dlopen(/Users/cbchosy/opt/anaconda3/envs/theseus/lib/python3.10/site-packages/sksparse/cholmod.cpython-310-darwin.so, 0x0002): Library not loaded: @rpath/libblas.3.dylib\n  Referenced from: <F0E743CE-ABC7-3A11-843A-3D271FDCFDA6> /Users/cbchosy/opt/anaconda3/envs/theseus/lib/libcholmod.3.0.14.dylib\n  Reason: tried: '/Users/cbchosy/opt/anaconda3/envs/theseus/lib/libblas.3.dylib' (no such file), '/System/Volumes/Preboot/Cryptexes/OS/Users/cbchosy/opt/anaconda3/envs/theseus/lib/libblas.3.dylib' (no such file), '/Users/cbchosy/opt/anaconda3/envs/theseus/lib/libblas.3.dylib' (no such file), '/System/Volumes/Preboot/Cryptexes/OS/Users/cbchosy/opt/anaconda3/envs/theseus/lib/libblas.3.dylib' (no such file), '/Users/cbchosy/opt/anaconda3/envs/theseus/lib/libblas.3.dylib' (no such file), '/Users/cbchosy/opt/anaconda3/envs/theseus/lib/libblas.3.dylib' (no such file), '/System/Volumes/Preboot/Cryptexes/OS/Users/cbchosy/opt/anaconda3/envs/theseus/lib/libblas.3.dylib' (no such file), '/Users/cbchosy/opt/anaconda3/envs/theseus/lib/libblas.3.dylib' (no such file), '/System/Volumes/Preboot/Cryptexes/OS/Users/cbchosy/opt/anaconda3/envs/theseus/lib/libblas.3.dylib' (no such file), '/Users/cbchosy/opt/anaconda3/envs/theseus/lib/libblas.3.dylib' (no such file), '/System/Volumes/Preboot/Cryptexes/OS/Users/cbchosy/opt/anaconda3/envs/theseus/lib/libblas.3.dylib' (no such file), '/Users/cbchosy/opt/anaconda3/envs/theseus/lib/libblas.3.dylib' (no such file), '/System/Volumes/Preboot/Cryptexes/OS/Users/cbchosy/opt/anaconda3/envs/theseus/lib/libblas.3.dylib' (no such file), '/Users/cbchosy/opt/anaconda3/envs/theseus/bin/../lib/libblas.3.dylib' (no such file), '/Users/cbchosy/opt/anaconda3/envs/theseus/bin/../lib/libblas.3.dylib' (no such file), '/System/Volumes/Preboot/Cryptexes/OS@rpath/libblas.3.dylib' (no such file), '/Users/cbchosy/opt/anaconda3/envs/theseus/lib/libblas.3.dylib' (no such file), '/System/Volumes/Preboot/Cryptexes/OS/Users/cbchosy/opt/anaconda3/envs/theseus/lib/libblas.3.dylib' (no such file), '/Users/cbchosy/opt/anaconda3/envs/theseus/lib/libblas.3.dylib' (no such file), '/System/Volumes/Preboot/Cryptexes/OS/Users/cbchosy/opt/anaconda3/envs/theseus/lib/libblas.3.dylib' (no such file), '/Users/cbchosy/opt/anaconda3/envs/theseus/lib/libblas.3.dylib' (no such file), '/Users/cbchosy/opt/anaconda3/envs/theseus/lib/libblas.3.dylib' (no such file), '/System/Volumes/Preboot/Cryptexes/OS/Users/cbchosy/opt/anaconda3/envs/theseus/lib/libblas.3.dylib' (no such file), '/Users/cbchosy/opt/anaconda3/envs/theseus/lib/libblas.3.dylib' (no such file), '/System/Volumes/Preboot/Cryptexes/OS/Users/cbchosy/opt/anaconda3/envs/theseus/lib/libblas.3.dylib' (no such file), '/Users/cbchosy/opt/anaconda3/envs/theseus/lib/libblas.3.dylib' (no such file), '/System/Volumes/Preboot/Cryptexes/OS/Users/cbchosy/opt/anaconda3/envs/theseus/lib/libblas.3.dylib' (no such file), '/Users/cbchosy/opt/anaconda3/envs/theseus/lib/libblas.3.dylib' (no such file), '/System/Volumes/Preboot/Cryptexes/OS/Users/cbchosy/opt/anaconda3/envs/theseus/lib/libblas.3.dylib' (no such file), '/Users/cbchosy/opt/anaconda3/envs/theseus/bin/../lib/libblas.3.dylib' (no such file), '/Users/cbchosy/opt/anaconda3/envs/theseus/bin/../lib/libblas.3.dylib' (no such file), '/usr/local/lib/libblas.3.dylib' (no such file), '/usr/lib/libblas.3.dylib' (no such file, not in dyld cache)"
     ]
    }
   ],
   "source": [
    "import numpy as np\n",
    "import h5py\n",
    "import glob\n",
    "from theseusqfls import genplanck, visualization\n",
    "from scipy.optimize import curve_fit\n",
    "import matplotlib.pyplot as plt"
   ],
   "metadata": {
    "collapsed": false
   }
  },
  {
   "cell_type": "code",
   "execution_count": null,
   "outputs": [],
   "source": [
    "def calculate_guesses(energy, pl):\n",
    "    init_guesses = [1.2, 0.025, 1.5, 1.7]\n",
    "    points = [256, 512, 768]\n",
    "    guesses = np.zeros((4, len(points), len(points)))\n",
    "    for i in range(len(points)):\n",
    "        for j in range(len(points)):\n",
    "            guesses[:, i, j], __ = curve_fit(genplanck.gen_planck, energy, pl[:, i, j].squeeze(), p0=init_guesses)\n",
    "    guesses = list(np.mean(guesses, axis=(1, 2)))\n",
    "    return guesses"
   ],
   "metadata": {
    "collapsed": false
   }
  },
  {
   "cell_type": "code",
   "execution_count": 1,
   "outputs": [],
   "source": [
    "directory = r'/Volumes/My Passport/macro-nano-degradation/hyperspectral/round2/fresh/processed'\n",
    "filenames = glob.glob(directory + '/*_calibrated.h5')"
   ],
   "metadata": {
    "collapsed": false
   }
  },
  {
   "cell_type": "code",
   "execution_count": null,
   "outputs": [],
   "source": [
    "for filename in filenames:\n",
    "    energy, pl = genplanck.import_hyperspectral(filename)\n",
    "    energy_crop, pl_crop = genplanck.crop_data(energy, pl)\n",
    "    guesses = calculate_guesses(energy_crop, pl_crop)\n",
    "    result, info = genplanck.fit_qfls(energy_crop, pl_crop, guesses=guesses, batch_size=2048, max_iterations=10, step_size=0.75, verbose=False)\n",
    "    # Plot result\n",
    "    fig, ax = plt.subplots()\n",
    "    visualization.imshow(ax, result['qfls'], vmin=np.nanpercentile(result['qfls'], 1), vmax=np.nanpercentile(result['qfls'], 99), cbar_label='QFLS (eV)')\n",
    "    plt.show()"
   ],
   "metadata": {
    "collapsed": false
   }
  }
 ],
 "metadata": {
  "kernelspec": {
   "display_name": "Python 3",
   "language": "python",
   "name": "python3"
  },
  "language_info": {
   "codemirror_mode": {
    "name": "ipython",
    "version": 2
   },
   "file_extension": ".py",
   "mimetype": "text/x-python",
   "name": "python",
   "nbconvert_exporter": "python",
   "pygments_lexer": "ipython2",
   "version": "2.7.6"
  }
 },
 "nbformat": 4,
 "nbformat_minor": 0
}
